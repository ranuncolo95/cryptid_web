{
 "cells": [
  {
   "cell_type": "code",
   "execution_count": 2,
   "id": "850dce1f",
   "metadata": {},
   "outputs": [],
   "source": [
    "from fastapi import FastAPI\n",
    "import requests\n",
    "import httpx"
   ]
  },
  {
   "cell_type": "code",
   "execution_count": 6,
   "id": "ff8f6204",
   "metadata": {},
   "outputs": [],
   "source": [
    "#request top endpoint\n",
    "r = requests.get(\"http://localhost:8000/explorer\")\n",
    "r.json()\n",
    "name1 = r.json()[0]['name']"
   ]
  },
  {
   "cell_type": "code",
   "execution_count": null,
   "id": "2708fd6f",
   "metadata": {},
   "outputs": [
    {
     "data": {
      "text/plain": [
       "{'name': 'Claude Hande',\n",
       " 'country': 'FR',\n",
       " 'description': 'Scarce during full moons'}"
      ]
     },
     "execution_count": 10,
     "metadata": {},
     "output_type": "execute_result"
    }
   ],
   "source": [
    "#request response, query params\n",
    "r = requests.get(\"http://localhost:8000/explorer/{name}\".format(name=name1))\n",
    "r.json()"
   ]
  }
 ],
 "metadata": {
  "kernelspec": {
   "display_name": ".venv",
   "language": "python",
   "name": "python3"
  },
  "language_info": {
   "codemirror_mode": {
    "name": "ipython",
    "version": 3
   },
   "file_extension": ".py",
   "mimetype": "text/x-python",
   "name": "python",
   "nbconvert_exporter": "python",
   "pygments_lexer": "ipython3",
   "version": "3.12.3"
  }
 },
 "nbformat": 4,
 "nbformat_minor": 5
}
